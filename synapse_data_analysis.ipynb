{
 "cells": [
  {
   "cell_type": "code",
   "execution_count": 1,
   "metadata": {},
   "outputs": [],
   "source": [
    "import numpy as np\n",
    "import pandas as pd\n",
    "import matplotlib.pyplot as plt\n",
    "%matplotlib inline"
   ]
  },
  {
   "cell_type": "code",
   "execution_count": 2,
   "metadata": {},
   "outputs": [],
   "source": [
    "bicyle3 = pd.read_csv('data.csv')"
   ]
  },
  {
   "cell_type": "code",
   "execution_count": 3,
   "metadata": {},
   "outputs": [],
   "source": [
    "bicyle2 = bicyle3.loc[bicyle3['data/category'].isin(['Sports','Environment'])]"
   ]
  },
  {
   "cell_type": "code",
   "execution_count": 4,
   "metadata": {},
   "outputs": [],
   "source": [
    "bicyle1 = bicyle2.loc[bicyle2['data/event_name'].isin(['Fund Project'])]"
   ]
  },
  {
   "cell_type": "code",
   "execution_count": 5,
   "metadata": {},
   "outputs": [
    {
     "data": {
      "text/html": [
       "<div>\n",
       "<style scoped>\n",
       "    .dataframe tbody tr th:only-of-type {\n",
       "        vertical-align: middle;\n",
       "    }\n",
       "\n",
       "    .dataframe tbody tr th {\n",
       "        vertical-align: top;\n",
       "    }\n",
       "\n",
       "    .dataframe thead th {\n",
       "        text-align: right;\n",
       "    }\n",
       "</style>\n",
       "<table border=\"1\" class=\"dataframe\">\n",
       "  <thead>\n",
       "    <tr style=\"text-align: right;\">\n",
       "      <th></th>\n",
       "      <th>data/category</th>\n",
       "      <th>data/event_name</th>\n",
       "      <th>data/gender</th>\n",
       "      <th>data/age</th>\n",
       "      <th>data/marital_status</th>\n",
       "      <th>data/session_id</th>\n",
       "      <th>data/device</th>\n",
       "      <th>data/client_time</th>\n",
       "      <th>data/location/latitude</th>\n",
       "      <th>data/location/city</th>\n",
       "      <th>data/location/state</th>\n",
       "      <th>data/location/longitude</th>\n",
       "      <th>data/location/zip_code</th>\n",
       "      <th>data/amount</th>\n",
       "    </tr>\n",
       "  </thead>\n",
       "  <tbody>\n",
       "    <tr>\n",
       "      <th>16</th>\n",
       "      <td>Sports</td>\n",
       "      <td>Fund Project</td>\n",
       "      <td>M</td>\n",
       "      <td>18-24</td>\n",
       "      <td>married</td>\n",
       "      <td>69f62d2ae87640f5a2dde2b2e9229fe6</td>\n",
       "      <td>android</td>\n",
       "      <td>1393632200</td>\n",
       "      <td>40.189788</td>\n",
       "      <td>Lyons</td>\n",
       "      <td>CO</td>\n",
       "      <td>-105.355280</td>\n",
       "      <td>80540</td>\n",
       "      <td>31.0</td>\n",
       "    </tr>\n",
       "    <tr>\n",
       "      <th>35</th>\n",
       "      <td>Sports</td>\n",
       "      <td>Fund Project</td>\n",
       "      <td>M</td>\n",
       "      <td>18-24</td>\n",
       "      <td>married</td>\n",
       "      <td>be389e9be0e74398adcef3292ac409ee</td>\n",
       "      <td>android</td>\n",
       "      <td>1393632395</td>\n",
       "      <td>45.408374</td>\n",
       "      <td>Lake Oswego</td>\n",
       "      <td>OR</td>\n",
       "      <td>-122.691388</td>\n",
       "      <td>97034</td>\n",
       "      <td>40.0</td>\n",
       "    </tr>\n",
       "    <tr>\n",
       "      <th>78</th>\n",
       "      <td>Sports</td>\n",
       "      <td>Fund Project</td>\n",
       "      <td>F</td>\n",
       "      <td>18-24</td>\n",
       "      <td>single</td>\n",
       "      <td>71ca342ead4f4da180da4f9b4baaf760</td>\n",
       "      <td>android</td>\n",
       "      <td>1393633118</td>\n",
       "      <td>33.844371</td>\n",
       "      <td>Alpharetta</td>\n",
       "      <td>GA</td>\n",
       "      <td>-84.474050</td>\n",
       "      <td>30009</td>\n",
       "      <td>53.0</td>\n",
       "    </tr>\n",
       "    <tr>\n",
       "      <th>100</th>\n",
       "      <td>Sports</td>\n",
       "      <td>Fund Project</td>\n",
       "      <td>F</td>\n",
       "      <td>18-24</td>\n",
       "      <td>married</td>\n",
       "      <td>a1fdfe0bebed4510a9059bcfb3ba1325</td>\n",
       "      <td>iOS</td>\n",
       "      <td>1393633458</td>\n",
       "      <td>33.794055</td>\n",
       "      <td>Atlanta</td>\n",
       "      <td>GA</td>\n",
       "      <td>-84.377326</td>\n",
       "      <td>30308</td>\n",
       "      <td>48.0</td>\n",
       "    </tr>\n",
       "    <tr>\n",
       "      <th>131</th>\n",
       "      <td>Sports</td>\n",
       "      <td>Fund Project</td>\n",
       "      <td>M</td>\n",
       "      <td>45-54</td>\n",
       "      <td>single</td>\n",
       "      <td>d23a964e8656403b853eb2a24139c408</td>\n",
       "      <td>android</td>\n",
       "      <td>1393633861</td>\n",
       "      <td>39.102704</td>\n",
       "      <td>Kansas City</td>\n",
       "      <td>MO</td>\n",
       "      <td>-94.595033</td>\n",
       "      <td>64105</td>\n",
       "      <td>27.0</td>\n",
       "    </tr>\n",
       "    <tr>\n",
       "      <th>...</th>\n",
       "      <td>...</td>\n",
       "      <td>...</td>\n",
       "      <td>...</td>\n",
       "      <td>...</td>\n",
       "      <td>...</td>\n",
       "      <td>...</td>\n",
       "      <td>...</td>\n",
       "      <td>...</td>\n",
       "      <td>...</td>\n",
       "      <td>...</td>\n",
       "      <td>...</td>\n",
       "      <td>...</td>\n",
       "      <td>...</td>\n",
       "      <td>...</td>\n",
       "    </tr>\n",
       "    <tr>\n",
       "      <th>49984</th>\n",
       "      <td>Environment</td>\n",
       "      <td>Fund Project</td>\n",
       "      <td>M</td>\n",
       "      <td>18-24</td>\n",
       "      <td>married</td>\n",
       "      <td>584713f5385a4ce2b881e877f1fa9a80</td>\n",
       "      <td>android</td>\n",
       "      <td>1396308722</td>\n",
       "      <td>33.760505</td>\n",
       "      <td>Atlanta</td>\n",
       "      <td>GA</td>\n",
       "      <td>-84.399626</td>\n",
       "      <td>30313</td>\n",
       "      <td>23.0</td>\n",
       "    </tr>\n",
       "    <tr>\n",
       "      <th>49989</th>\n",
       "      <td>Sports</td>\n",
       "      <td>Fund Project</td>\n",
       "      <td>M</td>\n",
       "      <td>18-24</td>\n",
       "      <td>single</td>\n",
       "      <td>4829aa471c6b431fa023076746f7476f</td>\n",
       "      <td>iOS</td>\n",
       "      <td>1396309022</td>\n",
       "      <td>39.872535</td>\n",
       "      <td>Westminster</td>\n",
       "      <td>CO</td>\n",
       "      <td>-105.034487</td>\n",
       "      <td>80030</td>\n",
       "      <td>37.0</td>\n",
       "    </tr>\n",
       "    <tr>\n",
       "      <th>49994</th>\n",
       "      <td>Environment</td>\n",
       "      <td>Fund Project</td>\n",
       "      <td>F</td>\n",
       "      <td>35-44</td>\n",
       "      <td>single</td>\n",
       "      <td>dbe304febcd94d768740237f37e918cd</td>\n",
       "      <td>android</td>\n",
       "      <td>1396309700</td>\n",
       "      <td>27.457947</td>\n",
       "      <td>Sebring</td>\n",
       "      <td>FL</td>\n",
       "      <td>-81.373012</td>\n",
       "      <td>33870</td>\n",
       "      <td>35.0</td>\n",
       "    </tr>\n",
       "    <tr>\n",
       "      <th>49995</th>\n",
       "      <td>Sports</td>\n",
       "      <td>Fund Project</td>\n",
       "      <td>F</td>\n",
       "      <td>18-24</td>\n",
       "      <td>married</td>\n",
       "      <td>412b973788704c36a008a506cdbba033</td>\n",
       "      <td>iOS</td>\n",
       "      <td>1396309720</td>\n",
       "      <td>45.343615</td>\n",
       "      <td>West Linn</td>\n",
       "      <td>OR</td>\n",
       "      <td>-122.664926</td>\n",
       "      <td>97068</td>\n",
       "      <td>35.0</td>\n",
       "    </tr>\n",
       "    <tr>\n",
       "      <th>49998</th>\n",
       "      <td>Sports</td>\n",
       "      <td>Fund Project</td>\n",
       "      <td>F</td>\n",
       "      <td>35-44</td>\n",
       "      <td>married</td>\n",
       "      <td>2df6b9a0c66b48a389330327517b9276</td>\n",
       "      <td>iOS</td>\n",
       "      <td>1396309968</td>\n",
       "      <td>39.477625</td>\n",
       "      <td>Martinsville</td>\n",
       "      <td>IN</td>\n",
       "      <td>-86.466792</td>\n",
       "      <td>46151</td>\n",
       "      <td>37.0</td>\n",
       "    </tr>\n",
       "  </tbody>\n",
       "</table>\n",
       "<p>8268 rows × 14 columns</p>\n",
       "</div>"
      ],
      "text/plain": [
       "      data/category data/event_name data/gender data/age data/marital_status  \\\n",
       "16           Sports    Fund Project           M    18-24             married   \n",
       "35           Sports    Fund Project           M    18-24             married   \n",
       "78           Sports    Fund Project           F    18-24              single   \n",
       "100          Sports    Fund Project           F    18-24             married   \n",
       "131          Sports    Fund Project           M    45-54              single   \n",
       "...             ...             ...         ...      ...                 ...   \n",
       "49984   Environment    Fund Project           M    18-24             married   \n",
       "49989        Sports    Fund Project           M    18-24              single   \n",
       "49994   Environment    Fund Project           F    35-44              single   \n",
       "49995        Sports    Fund Project           F    18-24             married   \n",
       "49998        Sports    Fund Project           F    35-44             married   \n",
       "\n",
       "                        data/session_id data/device  data/client_time  \\\n",
       "16     69f62d2ae87640f5a2dde2b2e9229fe6     android        1393632200   \n",
       "35     be389e9be0e74398adcef3292ac409ee     android        1393632395   \n",
       "78     71ca342ead4f4da180da4f9b4baaf760     android        1393633118   \n",
       "100    a1fdfe0bebed4510a9059bcfb3ba1325         iOS        1393633458   \n",
       "131    d23a964e8656403b853eb2a24139c408     android        1393633861   \n",
       "...                                 ...         ...               ...   \n",
       "49984  584713f5385a4ce2b881e877f1fa9a80     android        1396308722   \n",
       "49989  4829aa471c6b431fa023076746f7476f         iOS        1396309022   \n",
       "49994  dbe304febcd94d768740237f37e918cd     android        1396309700   \n",
       "49995  412b973788704c36a008a506cdbba033         iOS        1396309720   \n",
       "49998  2df6b9a0c66b48a389330327517b9276         iOS        1396309968   \n",
       "\n",
       "       data/location/latitude data/location/city data/location/state  \\\n",
       "16                  40.189788              Lyons                  CO   \n",
       "35                  45.408374        Lake Oswego                  OR   \n",
       "78                  33.844371         Alpharetta                  GA   \n",
       "100                 33.794055            Atlanta                  GA   \n",
       "131                 39.102704        Kansas City                  MO   \n",
       "...                       ...                ...                 ...   \n",
       "49984               33.760505            Atlanta                  GA   \n",
       "49989               39.872535        Westminster                  CO   \n",
       "49994               27.457947            Sebring                  FL   \n",
       "49995               45.343615          West Linn                  OR   \n",
       "49998               39.477625       Martinsville                  IN   \n",
       "\n",
       "       data/location/longitude  data/location/zip_code  data/amount  \n",
       "16                 -105.355280                   80540         31.0  \n",
       "35                 -122.691388                   97034         40.0  \n",
       "78                  -84.474050                   30009         53.0  \n",
       "100                 -84.377326                   30308         48.0  \n",
       "131                 -94.595033                   64105         27.0  \n",
       "...                        ...                     ...          ...  \n",
       "49984               -84.399626                   30313         23.0  \n",
       "49989              -105.034487                   80030         37.0  \n",
       "49994               -81.373012                   33870         35.0  \n",
       "49995              -122.664926                   97068         35.0  \n",
       "49998               -86.466792                   46151         37.0  \n",
       "\n",
       "[8268 rows x 14 columns]"
      ]
     },
     "execution_count": 5,
     "metadata": {},
     "output_type": "execute_result"
    }
   ],
   "source": [
    "bicyle1"
   ]
  },
  {
   "cell_type": "code",
   "execution_count": 6,
   "metadata": {},
   "outputs": [],
   "source": [
    "bicyle1.to_csv('bicyle.csv')"
   ]
  },
  {
   "cell_type": "code",
   "execution_count": 7,
   "metadata": {},
   "outputs": [
    {
     "data": {
      "image/png": "[encoded data removed]",
      "text/plain": [
       "<Figure size 432x288 with 1 Axes>"
      ]
     },
     "metadata": {
      "needs_background": "light"
     },
     "output_type": "display_data"
    }
   ],
   "source": [
    "fig, ax = plt.subplots()\n",
    "ax = ax.bar(bicyle1[\"data/age\"], bicyle1[\"data/amount\"])"
   ]
  },
  {
   "cell_type": "code",
   "execution_count": 8,
   "metadata": {},
   "outputs": [
    {
     "data": {
      "image/png": "[encoded data removed]",
      "text/plain": [
       "<Figure size 432x288 with 1 Axes>"
      ]
     },
     "metadata": {
      "needs_background": "light"
     },
     "output_type": "display_data"
    }
   ],
   "source": [
    "fig, ax = plt.subplots()\n",
    "ax = ax.scatter(bicyle1[\"data/age\"], bicyle1[\"data/amount\"])"
   ]
  },
  {
   "cell_type": "code",
   "execution_count": 10,
   "metadata": {},
   "outputs": [
    {
     "data": {
      "image/png": "[encoded data removed]",
      "text/plain": [
       "<Figure size 432x288 with 1 Axes>"
      ]
     },
     "metadata": {
      "needs_background": "light"
     },
     "output_type": "display_data"
    }
   ],
   "source": [
    "fig, ax = plt.subplots()\n",
    "ax = ax.hist(bicyle1['data/gender'])"
   ]
  },
  {
   "cell_type": "code",
   "execution_count": 14,
   "metadata": {},
   "outputs": [
    {
     "data": {
      "image/png": "[encoded data removed]",
      "text/plain": [
       "<Figure size 432x288 with 1 Axes>"
      ]
     },
     "metadata": {
      "needs_background": "light"
     },
     "output_type": "display_data"
    }
   ],
   "source": [
    "fig, ax = plt.subplots()\n",
    "ax = ax.hist(bicyle1['data/device'])"
   ]
  },
  {
   "cell_type": "code",
   "execution_count": 18,
   "metadata": {},
   "outputs": [
    {
     "data": {
      "image/png": "[encoded data removed]",
      "text/plain": [
       "<Figure size 432x288 with 1 Axes>"
      ]
     },
     "metadata": {
      "needs_background": "light"
     },
     "output_type": "display_data"
    }
   ],
   "source": [
    "fig, ax = plt.subplots()\n",
    "ax = ax.hist(bicyle1['data/category'])"
   ]
  },
  {
   "cell_type": "code",
   "execution_count": null,
   "metadata": {},
   "outputs": [],
   "source": []
  }
 ],
 "metadata": {
  "kernelspec": {
   "display_name": "Python 3",
   "language": "python",
   "name": "python3"
  },
  "language_info": {
   "codemirror_mode": {
    "name": "ipython",
    "version": 3
   },
   "file_extension": ".py",
   "mimetype": "text/x-python",
   "name": "python",
   "nbconvert_exporter": "python",
   "pygments_lexer": "ipython3",
   "version": "3.8.3"
  }
 },
 "nbformat": 4,
 "nbformat_minor": 4
}
